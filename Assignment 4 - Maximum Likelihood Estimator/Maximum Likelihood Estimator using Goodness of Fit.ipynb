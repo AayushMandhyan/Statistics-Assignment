{
 "cells": [
  {
   "cell_type": "markdown",
   "metadata": {},
   "source": [
    "# Assignment 4\n",
    "Maximum Likelihood Estimators for various probability distributions"
   ]
  },
  {
   "cell_type": "markdown",
   "metadata": {},
   "source": [
    "# Maximum Likelihood Estimators "
   ]
  },
  {
   "cell_type": "markdown",
   "metadata": {},
   "source": [
    "Maximum Likelihood Estimation (MLE) is a method of estimating the parameters of a statistical model, given observations.\n",
    "\n",
    "The method of maximum likelihood is used with a wide range of statistical analyses. As an example, suppose that we are interested in the heights of adult female penguins, but are unable to measure the height of every penguin in a population (due to cost or time constraints). Assuming that the heights are normally distributed with some unknown mean and variance, the mean and variance can be estimated with MLE while only knowing the heights of some sample of the overall population. MLE would accomplish that by taking the mean and variance as parameters and finding particular parametric values that make the observed results the most probable given the normal model."
   ]
  },
  {
   "cell_type": "code",
   "execution_count": 1,
   "metadata": {},
   "outputs": [
    {
     "name": "stderr",
     "output_type": "stream",
     "text": [
      "Rlab 2.15.1 attached.\n",
      "\n",
      "\n",
      "Attaching package: ‘Rlab’\n",
      "\n",
      "The following objects are masked from ‘package:stats’:\n",
      "\n",
      "    dexp, dgamma, dweibull, pexp, pgamma, pweibull, qexp, qgamma,\n",
      "    qweibull, rexp, rgamma, rweibull\n",
      "\n",
      "The following object is masked from ‘package:datasets’:\n",
      "\n",
      "    precip\n",
      "\n"
     ]
    }
   ],
   "source": [
    "#importing libraries\n",
    "library(Rlab)\n",
    "library(pracma)\n",
    "\n",
    "#supressing warning in Jupyter Notebook\n",
    "options(warn=-1)"
   ]
  },
  {
   "cell_type": "code",
   "execution_count": 2,
   "metadata": {},
   "outputs": [],
   "source": [
    "# Bernoulli Distribution\n",
    "mle_bernoulli <- function(data){\n",
    "  p <- mean(data)\n",
    "  return(p)\n",
    "}\n",
    "\n",
    "# Binomial Distribution\n",
    "mle_binomial <- function(data){\n",
    "  n <- length(data)\n",
    "  p <- (1/length(data))*(sum(data)/n)\n",
    "  return(p)\n",
    "}\n",
    "\n",
    "# Geometric Distribution\n",
    "mle_geometric <- function(data){ \n",
    "  p <- 1.0/(mean(data))\n",
    "  return(p)\n",
    "}\n",
    "\n",
    "# Poisson Distribution\n",
    "mle_poisson <- function(data){ \n",
    "  estimated_lambda <- mean(data)\n",
    "  return(estimated_lambda)\n",
    "}\n",
    "\n",
    "# Uniform Distribution\n",
    "mle_uniform <- function(data){\n",
    "  a <- min(data)\n",
    "  b <- max(data)\n",
    "  return(c(a, b))\n",
    "}\n",
    "\n",
    "# Normal Distribution\n",
    "mle_normal <- function(data){\n",
    "  # Estimating the parameters\n",
    "  mu <- mean(data)\n",
    "  var <- sum((data - mu)**2)/(length(data) - 1)\n",
    "  return(c(mu, var))\n",
    "}\n",
    "\n",
    "# Exponential Distribution\n",
    "mle_exponential <- function(data){\n",
    "  theta <- mean(data)\n",
    "  return(theta)\n",
    "}\n",
    "\n",
    "# Gamma Distribution\n",
    "mle_gamma <- function(data){ \n",
    "  data <- data + 1e-6\n",
    "  s = log(mean(data)) - (sum(log(data)))/length(data)\n",
    "  alpha <- ((3 - s) + sqrt( ((s-3)**2) + (24*s) ))/(12*s)\n",
    "  beta <- mean(data)/alpha\n",
    "  return(c(alpha, beta))\n",
    "}\n",
    "\n",
    "# Beta Distribution\n",
    "mle_beta <- function(data){\n",
    "  data_mean <- mean(data)\n",
    "  data_variance <- (sum(data * data))/length(data)\n",
    "  alpha <- ((data_mean ^ 2) - (data_mean * data_variance))/(data_variance - (data_mean ^ 2))\n",
    "  beta <- (alpha * (1 - data_mean))/(data_mean)\n",
    "  \n",
    "  final_val <- c(alpha, beta)\n",
    "\n",
    "  # We will run the optimisation step for 100 iterations\n",
    "  for(index in 1:100){\n",
    "    g1 <- digamma(alpha) - digamma(alpha + beta) - (sum(log(data)))/length(data)\n",
    "    g2 <- digamma(beta) - digamma(alpha + beta) - (sum(log(1 - data))/length(data))\n",
    "    g <- c(g1, g2)\n",
    "    \n",
    "    G1_val <- trigamma(alpha) - trigamma(alpha + beta)\n",
    "    G2_val <- -trigamma(alpha + beta)\n",
    "    G3_val <- trigamma(beta) - trigamma(alpha + beta)\n",
    "    G <- matrix(c(G1_val, G2_val, G2_val, G3_val), nrow = 2, ncol = 2, byrow = TRUE)\n",
    "    G_inverse <- inv(G)\n",
    "    \n",
    "    # Final values\n",
    "    final_val <- final_val - t(G_inverse %*% g)\n",
    "    alpha <- final_val[1]\n",
    "    beta <- final_val[2]\n",
    "  }\n",
    "  \n",
    "  return(c(c(alpha, beta)))\n",
    "}\n",
    "\n",
    "# Chi Square Distribution\n",
    "mle_chisq <- function(data){\n",
    "  # Intitial values for v from MOM estimator\n",
    "  p_tilda <- mean(data)\n",
    "  \n",
    "  # We will use some approximations using the second derivative\n",
    "  n <- length(data)\n",
    "  del_p_numerator <- (-n/gamma(p_tilda/2) * digamma(p_tilda/2)) - (((n * log(2)) + sum(log(data)))/2)\n",
    "  del_p_denominator <- (-n * trigamma(p_tilda/2)/4)\n",
    "  del_p <- del_p_numerator/del_p_denominator\n",
    "  \n",
    "  estimated_p <- (p_tilda + del_p)/2\n",
    "  return(estimated_p)\n",
    "}"
   ]
  },
  {
   "cell_type": "markdown",
   "metadata": {},
   "source": [
    "# Goodness of Fit Test "
   ]
  },
  {
   "cell_type": "markdown",
   "metadata": {},
   "source": [
    "The goodness of fit of a statistical model describes how well it fits a set of observations. Measures of goodness of fit typically summarize the discrepancy between observed values and the values expected under the model in question. "
   ]
  },
  {
   "cell_type": "code",
   "execution_count": 3,
   "metadata": {},
   "outputs": [],
   "source": [
    "# Goodness of fit function\n",
    "gfit <- function(distribution, nboot = 1000, data)\n",
    "{\n",
    "  mle_name = get(paste(\"mle_\", distribution, sep = \"\"))\n",
    "  theta_hat = mle_name(data)\n",
    "  n <- length(data)\n",
    "  \n",
    "  if(distribution == \"poisson\"){\n",
    "    q_hat <- qpois(c(1:n)/(n+1),theta_hat)\n",
    "    \n",
    "    D0 <- ks.test(data, q_hat)$statistic\n",
    "    Dvec<-NULL\n",
    "    \n",
    "    for(i in 1:nboot){\n",
    "      x_star <- rpois(n, theta_hat)\n",
    "      theta_hat_star <- mle_name(x_star)\n",
    "      \n",
    "      q_hat_star <- qpois(c(1:n)/(n+1), theta_hat_star)\n",
    "      D_star <- ks.test(x_star, q_hat_star)$statistic\n",
    "      Dvec <- c(Dvec, D_star)\n",
    "    }\n",
    "    p_value <- sum(Dvec > D0)/nboot\n",
    "    return(p_value)\n",
    "  }\n",
    "  else if(distribution == \"normal\"){\n",
    "    q_hat <- qnorm(c(1:n)/(n+1),mean = theta_hat[1], sd = theta_hat[2])\n",
    "    \n",
    "    D0 <- ks.test(data, q_hat)$statistic\n",
    "    Dvec<-NULL\n",
    "    \n",
    "    for(i in 1:nboot){\n",
    "      x_star <- rnorm(n,mean = theta_hat[1], sd =theta_hat[2])\n",
    "      theta_hat_star <- mle_name(x_star)\n",
    "      \n",
    "      q_hat_star <- qnorm(c(1:n)/(n+1),mean = theta_hat_star[1], sd =theta_hat_star[2])\n",
    "      D_star <- ks.test(x_star, q_hat_star)$statistic\n",
    "      Dvec <- c(Dvec, D_star)\n",
    "    }\n",
    "    p_value <- sum(Dvec > D0)/nboot\n",
    "    return(p_value)\n",
    "  }\n",
    "  else if(distribution == \"uniform\"){\n",
    "    q_hat <- qunif(c(1:n)/(n+1), theta_hat[1], theta_hat[2])\n",
    "    \n",
    "    D0 <- ks.test(data, q_hat)$statistic\n",
    "    Dvec<-NULL\n",
    "    \n",
    "    for(i in 1:nboot){\n",
    "      x_star <- runif(n, theta_hat[1], theta_hat[2])\n",
    "      theta_hat_star <- mle_name(x_star)\n",
    "      \n",
    "      q_hat_star <- qunif(c(1:n)/(n+1), theta_hat_star[1], theta_hat_star[2])\n",
    "      D_star <- ks.test(x_star, q_hat_star)$statistic\n",
    "      Dvec <- c(Dvec, D_star)\n",
    "    }\n",
    "    p_value <- sum(Dvec > D0)/nboot\n",
    "    return(p_value)\n",
    "  }\n",
    "  else if(distribution == \"gamma\"){\n",
    "    q_hat <- qgamma(c(1:n)/(n+1), shape = theta_hat[1],  scale = theta_hat[2])\n",
    "    \n",
    "    D0 <- ks.test(data, q_hat)$statistic\n",
    "    Dvec<-NULL\n",
    "    \n",
    "    for(i in 1:nboot){\n",
    "      x_star <- rgamma(n, shape = theta_hat[1], scale = theta_hat[2])\n",
    "      theta_hat_star <- mle_name(x_star)\n",
    "      \n",
    "      q_hat_star <- qgamma(c(1:n)/(n+1), shape = theta_hat_star[1], scale = theta_hat_star[2])\n",
    "      D_star <- ks.test(x_star, q_hat_star)$statistic\n",
    "      Dvec <- c(Dvec, D_star)\n",
    "    }\n",
    "    p_value <- sum(Dvec > D0)/nboot\n",
    "    return(p_value)\n",
    "  }\n",
    "  else if(distribution == \"beta\"){\n",
    "    q_hat <- qbeta(c(1:n)/(n+1),shape1 = theta_hat[1], shape2 = theta_hat[2])\n",
    "    \n",
    "    D0 <- ks.test(data, q_hat)$statistic\n",
    "    Dvec<-NULL\n",
    "    \n",
    "    for(i in 1:nboot){\n",
    "      x_star <- rbeta(n, shape1 =  theta_hat[1],shape2 =  theta_hat[2])\n",
    "      theta_hat_star <- mle_name(x_star)\n",
    "      \n",
    "      q_hat_star <- qbeta(c(1:n)/(n+1), shape1 =  theta_hat_star[1], shape2 = theta_hat_star[2])\n",
    "      D_star <- ks.test(x_star, q_hat_star)$statistic\n",
    "      Dvec <- c(Dvec, D_star)\n",
    "    }\n",
    "    p_value <- sum(Dvec > D0)/nboot\n",
    "    return(p_value)\n",
    "  }\n",
    "  else if(distribution == \"exponential\"){\n",
    "    q_hat <- qexp(c(1:n)/(n+1),theta_hat)\n",
    "    \n",
    "    D0 <- ks.test(data, q_hat)$statistic\n",
    "    Dvec<-NULL\n",
    "    \n",
    "    for(i in 1:nboot){\n",
    "      x_star <- rexp(n, theta_hat)\n",
    "      theta_hat_star <- mle_name(x_star)\n",
    "      \n",
    "      q_hat_star <- qexp(c(1:n)/(n+1), theta_hat_star)\n",
    "      D_star <- ks.test(x_star, q_hat_star)$statistic\n",
    "      Dvec <- c(Dvec, D_star)\n",
    "    }\n",
    "    p_value <- sum(Dvec > D0)/nboot\n",
    "    return(p_value)\n",
    "  }\n",
    "}"
   ]
  },
  {
   "cell_type": "markdown",
   "metadata": {},
   "source": [
    "# Wrapper funcitons for Goodness of Fit for Maximum Likelihood Estimator"
   ]
  },
  {
   "cell_type": "code",
   "execution_count": 4,
   "metadata": {},
   "outputs": [],
   "source": [
    "mle_wrapper <- function(distribution, population = 0){\n",
    "  p = 0.5\n",
    "  lambda = 0.5\n",
    "  a = 0\n",
    "  b = 100\n",
    "  theta = 2\n",
    "  alpha = 4.7\n",
    "  beta = 2.9\n",
    "  dog = 5\n",
    "  \n",
    "  if (distribution == \"bernoulli\"){\n",
    "    if (population == 0){\n",
    "      p = 0.5\n",
    "      data = rbinom(10000, 1, p)  \n",
    "    }\n",
    "    print(\"Population parameter: \")\n",
    "    print(p)\n",
    "    sampled = sample(data, 1000)\n",
    "    param_estimate <- mle_bernoulli(sampled)\n",
    "    print(\"Parameter Estimates: \")\n",
    "    print(param_estimate)\n",
    "  }\n",
    "  else if (distribution == \"binomial\"){\n",
    "    if (population == 0){\n",
    "      n = 1000\n",
    "      p = 0.5\n",
    "      data = rbinom(10000, n, p)  \n",
    "    }\n",
    "    print(\"Population parameters: \")\n",
    "    print(paste(p,\",\",n))\n",
    "    sampled = sample(data, 1000)\n",
    "    param_estimate <- mle_binomial(sampled)\n",
    "    print(\"Parameter Estimates: \")\n",
    "    print(param_estimate)\n",
    "  }\n",
    "  else if (distribution == \"geometric\"){\n",
    "    if (population == 0){\n",
    "      p = 0.5\n",
    "      data = rgeom(10000, p)  \n",
    "    }\n",
    "    print(\"Population parameters: \")\n",
    "    print(p)\n",
    "    sampled = sample(data, 1000)\n",
    "    param_estimate <- mle_geometric(sampled)\n",
    "    print(\"Parameter Estimates: \")\n",
    "    print(param_estimate)\n",
    "  }\n",
    "  else if (distribution == \"poisson\"){\n",
    "    if (population == 0){\n",
    "      lambda = 0.5\n",
    "      data = rpois(10000, lambda)  \n",
    "    }\n",
    "    print(\"Population parameters: \")\n",
    "    print(lambda)\n",
    "    sampled = sample(data, 1000)\n",
    "    param_estimate <- mle_poisson(data)\n",
    "    print(\"Parameter Estimates: \")\n",
    "    print(param_estimate)\n",
    "    \n",
    "    # Doing parametric bootstrap of MLE using ks test\n",
    "    p_value <- gfit(distribution, data = data)\n",
    "    print(\"The p-value is: \")\n",
    "    print(p_value)\n",
    "  }\n",
    "  else if (distribution == \"uniform\"){\n",
    "    if (population == 0){\n",
    "      a = 0\n",
    "      b = 100\n",
    "      data = runif(10000,a,b)  \n",
    "    }\n",
    "    print(\"Population parameters: \")\n",
    "    print(paste(a,\",\",b))\n",
    "    sampled = sample(data, 1000)\n",
    "    estimator <- mle_uniform(sampled)\n",
    "    print(\"Parameter Estimates: \")\n",
    "    print(estimator)\n",
    "    \n",
    "    # Doing parametric bootstrap of MLE using ks test\n",
    "    p_value <- gfit(distribution, data = data)\n",
    "    print(\"The p-value is: \")\n",
    "    print(p_value)\n",
    "  }\n",
    "  else if (distribution == \"normal\"){\n",
    "    if (population == 0){\n",
    "      data = rnorm(10000, 0, 1)  \n",
    "    }\n",
    "    print(\"Population mean: \")\n",
    "    print(mean(data))\n",
    "    print(\"Population variance: \")\n",
    "    print(var(data))\n",
    "    sampled = sample(data, 1000)\n",
    "    param_estimate <- mle_normal(sampled)\n",
    "    print(\"Parameter Estimates: \")\n",
    "    print(param_estimate)\n",
    "    \n",
    "    # Doing parametric bootstrap of MLE using ks test\n",
    "    p_value <- gfit(distribution, data = data)\n",
    "    print(\"The p-value is: \")\n",
    "    print(p_value)\n",
    "  }\n",
    "  else if (distribution == \"exponential\"){\n",
    "    if (population == 0){\n",
    "      theta = 2\n",
    "      data = rexp(10000, theta)\n",
    "    }\n",
    "    print(\"Population parameter: \")\n",
    "    print(theta)\n",
    "    sampled = sample(data, 1000)\n",
    "    param_estimate <- mle_exponential(data = sampled)\n",
    "    print(\"Parameter Estimates: \")\n",
    "    print(param_estimate)\n",
    "    \n",
    "    # Doing parametric bootstrap of MLE using ks test\n",
    "    p_value <- gfit(distribution, data = data)\n",
    "    print(\"The p-value is: \")\n",
    "    print(p_value)\n",
    "  }\n",
    "  else if (distribution == \"gamma\"){\n",
    "    if (population == 0){\n",
    "      alpha = 5\n",
    "      beta = 20\n",
    "      data = rgamma(10000, shape = alpha, scale = beta)  \n",
    "    }\n",
    "    print(\"Population parameters: \")\n",
    "    print(paste(alpha,\",\",beta))\n",
    "    sampled = sample(data, 1000)\n",
    "    param_estimate <- mle_gamma(sampled)\n",
    "    print(\"Parameter Estimates: \")\n",
    "    print(param_estimate)\n",
    "    \n",
    "    # Doing parametric bootstrap of MLE using ks test\n",
    "    p_value <- gfit(distribution, data = data)\n",
    "    print(\"The p-value is: \")\n",
    "    print(p_value)\n",
    "  }\n",
    "  else if (distribution == \"beta\"){\n",
    "    if (population == 0){\n",
    "      alpha = 4.7\n",
    "      beta = 2.9\n",
    "      data = rbeta(10000, shape1 = alpha, shape2 = beta)  \n",
    "    }\n",
    "    print(\"Population parameters: \")\n",
    "    print(paste(alpha,\",\",beta))\n",
    "    sampled = sample(data, 1000)\n",
    "    param_estimate <- mle_beta(sampled)\n",
    "    print(\"Parameter Estimates: \")\n",
    "    print(param_estimate)\n",
    "    \n",
    "    # Doing parametric bootstrap of MLE using ks test\n",
    "    p_value <- gfit(distribution, data = data)\n",
    "    print(\"The p-value is: \")\n",
    "    print(p_value)\n",
    "  }\n",
    "  else if (distribution == \"chi square\"){\n",
    "    if (population == 0){\n",
    "      dog = 5\n",
    "      data = rchisq(10000, df = dog)  \n",
    "    }\n",
    "    print(\"Population parameter: \")\n",
    "    print(dog)\n",
    "    sampled = sample(data, 1000)\n",
    "    param_estimate <- mle_chisq(sampled)\n",
    "    print(\"Parameter Estimates: \")\n",
    "    print(param_estimate)\n",
    "  }\n",
    "}"
   ]
  },
  {
   "cell_type": "markdown",
   "metadata": {},
   "source": [
    "# Calling MLE for various distribution"
   ]
  },
  {
   "cell_type": "code",
   "execution_count": 5,
   "metadata": {},
   "outputs": [
    {
     "name": "stdout",
     "output_type": "stream",
     "text": [
      "[1] \"Population parameter: \"\n",
      "[1] 0.5\n",
      "[1] \"Parameter Estimates: \"\n",
      "[1] 0.489\n"
     ]
    }
   ],
   "source": [
    "#MLE for Bernoulli Distribution\n",
    "mle_wrapper('bernoulli')"
   ]
  },
  {
   "cell_type": "code",
   "execution_count": 6,
   "metadata": {},
   "outputs": [
    {
     "name": "stdout",
     "output_type": "stream",
     "text": [
      "[1] \"Population parameters: \"\n",
      "[1] \"0.5 , 1000\"\n",
      "[1] \"Parameter Estimates: \"\n",
      "[1] 0.500358\n"
     ]
    }
   ],
   "source": [
    "#MLE for Binomial Distribution\n",
    "mle_wrapper('binomial')"
   ]
  },
  {
   "cell_type": "code",
   "execution_count": 7,
   "metadata": {},
   "outputs": [
    {
     "name": "stdout",
     "output_type": "stream",
     "text": [
      "[1] \"Population parameters: \"\n",
      "[1] 0.5\n",
      "[1] \"Parameter Estimates: \"\n",
      "[1] 1.091703\n"
     ]
    }
   ],
   "source": [
    "#MLE for Geometric Distribution\n",
    "mle_wrapper('geometric')"
   ]
  },
  {
   "cell_type": "code",
   "execution_count": 8,
   "metadata": {},
   "outputs": [
    {
     "name": "stdout",
     "output_type": "stream",
     "text": [
      "[1] \"Population parameters: \"\n",
      "[1] 0.5\n",
      "[1] \"Parameter Estimates: \"\n",
      "[1] 0.4981\n",
      "[1] \"The p-value is: \"\n",
      "[1] 0.324\n"
     ]
    }
   ],
   "source": [
    "#MLE for Poisson Distribution\n",
    "mle_wrapper('poisson')"
   ]
  },
  {
   "cell_type": "code",
   "execution_count": 9,
   "metadata": {},
   "outputs": [
    {
     "name": "stdout",
     "output_type": "stream",
     "text": [
      "[1] \"Population parameters: \"\n",
      "[1] \"0 , 100\"\n",
      "[1] \"Parameter Estimates: \"\n",
      "[1]  0.007363642 99.960501422\n",
      "[1] \"The p-value is: \"\n",
      "[1] 0.726\n"
     ]
    }
   ],
   "source": [
    "#MLE for Uniform Distribution\n",
    "mle_wrapper('uniform')"
   ]
  },
  {
   "cell_type": "code",
   "execution_count": 10,
   "metadata": {},
   "outputs": [
    {
     "name": "stdout",
     "output_type": "stream",
     "text": [
      "[1] \"Population mean: \"\n",
      "[1] -0.004709556\n",
      "[1] \"Population variance: \"\n",
      "[1] 0.9681644\n",
      "[1] \"Parameter Estimates: \"\n",
      "[1] -0.02587081  1.00099350\n",
      "[1] \"The p-value is: \"\n",
      "[1] 0.988\n"
     ]
    }
   ],
   "source": [
    "#MLE for Normal Distribution\n",
    "mle_wrapper('normal')"
   ]
  },
  {
   "cell_type": "code",
   "execution_count": 11,
   "metadata": {},
   "outputs": [
    {
     "name": "stdout",
     "output_type": "stream",
     "text": [
      "[1] \"Population parameter: \"\n",
      "[1] 2\n",
      "[1] \"Parameter Estimates: \"\n",
      "[1] 0.4950785\n",
      "[1] \"The p-value is: \"\n",
      "[1] 0.589\n"
     ]
    }
   ],
   "source": [
    "#MLE for Exponential Distribution\n",
    "mle_wrapper('exponential')"
   ]
  },
  {
   "cell_type": "code",
   "execution_count": 12,
   "metadata": {},
   "outputs": [
    {
     "name": "stdout",
     "output_type": "stream",
     "text": [
      "[1] \"Population parameters: \"\n",
      "[1] \"5 , 20\"\n",
      "[1] \"Parameter Estimates: \"\n",
      "[1]  5.002731 20.369871\n",
      "[1] \"The p-value is: \"\n",
      "[1] 0.547\n"
     ]
    }
   ],
   "source": [
    "#MLE for Gamma Distribution\n",
    "mle_wrapper('gamma')"
   ]
  },
  {
   "cell_type": "code",
   "execution_count": 13,
   "metadata": {},
   "outputs": [
    {
     "name": "stdout",
     "output_type": "stream",
     "text": [
      "[1] \"Population parameters: \"\n",
      "[1] \"4.7 , 2.9\"\n",
      "[1] \"Parameter Estimates: \"\n",
      "[1] 4.504253 2.771081\n",
      "[1] \"The p-value is: \"\n",
      "[1] 0.683\n"
     ]
    }
   ],
   "source": [
    "#MLE for Beta Distribution\n",
    "mle_wrapper('beta')"
   ]
  },
  {
   "cell_type": "code",
   "execution_count": 14,
   "metadata": {},
   "outputs": [
    {
     "name": "stdout",
     "output_type": "stream",
     "text": [
      "[1] \"Population parameter: \"\n",
      "[1] 5\n",
      "[1] \"Parameter Estimates: \"\n",
      "[1] 9.284379\n"
     ]
    }
   ],
   "source": [
    "#MLE for Chi Squared Distribution\n",
    "mle_wrapper('chi square')"
   ]
  },
  {
   "cell_type": "markdown",
   "metadata": {},
   "source": [
    "References:\n",
    "- https://en.wikipedia.org/wiki/Maximum_likelihood_estimation\n",
    "- https://en.wikipedia.org/wiki/Goodness_of_fit"
   ]
  }
 ],
 "metadata": {
  "kernelspec": {
   "display_name": "R",
   "language": "R",
   "name": "ir"
  },
  "language_info": {
   "codemirror_mode": "r",
   "file_extension": ".r",
   "mimetype": "text/x-r-source",
   "name": "R",
   "pygments_lexer": "r",
   "version": "3.4.4"
  }
 },
 "nbformat": 4,
 "nbformat_minor": 2
}
