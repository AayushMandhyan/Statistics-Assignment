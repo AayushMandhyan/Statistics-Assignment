{
 "cells": [
  {
   "cell_type": "markdown",
   "metadata": {},
   "source": [
    "# Assignment 2\n",
    "Method of Moment Estimator for probability distributions"
   ]
  },
  {
   "cell_type": "markdown",
   "metadata": {},
   "source": [
    "In statistics, the method of moments is a method of estimation of population parameters."
   ]
  },
  {
   "cell_type": "code",
   "execution_count": 2,
   "metadata": {},
   "outputs": [],
   "source": [
    "#import libraries\n",
    "library(Rlab)\n",
    "library(MASS)\n",
    "\n",
    "options(warn=-1)"
   ]
  },
  {
   "cell_type": "markdown",
   "metadata": {},
   "source": [
    "# Method of Moment Estimator Function"
   ]
  },
  {
   "cell_type": "code",
   "execution_count": 3,
   "metadata": {},
   "outputs": [],
   "source": [
    "Method_of_Moment_Generator <- function(dist, X)\n",
    "{\n",
    "    #Child Function for Bernoilli Method Of Moment estimation\n",
    "    Bernoulli <- function(X)\n",
    "    {\n",
    "        n <- length(X)\n",
    "        Xbar <- sum(X)/n\n",
    "        p <- Xbar\n",
    "        sprintf(\"p = %s\", p)  \n",
    "    }\n",
    "    \n",
    "    \n",
    "    #Child Function for Binomial Method Of Moment estimation\n",
    "    Binomial <- function(X)\n",
    "    {\n",
    "        n <- length(X)\n",
    "        Xbar <- sum(X)/n\n",
    "        SD2 <- sum((X - Xbar)^2)/n\n",
    "        P <- 1 - (SD2/Xbar)\n",
    "        N <- Xbar/P\n",
    "        sprintf(\"N = %s & P = %s\", N, P)   \n",
    "    }\n",
    "    \n",
    "    \n",
    "    #Child Function for Geometric Method Of Moment estimation   \n",
    "    Geometric <- function(X)\n",
    "    {\n",
    "        n <- length(X)\n",
    "        Xbar <- sum(X)/n\n",
    "        P <- 1/Xbar\n",
    "        sprintf(\"P = %s\", P)  \n",
    "    }\n",
    "\n",
    "    \n",
    "    #Child Function for Poisson Method Of Moment estimation    \n",
    "    Poisson <- function(X)\n",
    "    {\n",
    "        n <- length(X)\n",
    "        Xbar <- sum(X)/n\n",
    "        lambda <- Xbar\n",
    "        sprintf(\"lambda = %s\", lambda)  \n",
    "    }\n",
    "    \n",
    "    \n",
    "    #Child Function for Uniform Method Of Moment estimation\n",
    "    Uniform <- function(X)\n",
    "    {\n",
    "        n <- length(X)\n",
    "        Xbar <- sum(X)/n\n",
    "        SD2 <- sum((X - Xbar)^2)/n\n",
    "        A <- ((2*Xbar) - sqrt(12*SD2))/2\n",
    "        B <- (sqrt(12*SD2) + (2*Xbar))/2\n",
    "        sprintf(\"A = %s & B = %s\", A, B)  \n",
    "    }\n",
    "    \n",
    "    \n",
    "    #Child Function for Normal Method Of Moment estimation   \n",
    "    Normal <- function(X)\n",
    "    {\n",
    "        n <- length(X)\n",
    "        Xbar <- sum(X)/n\n",
    "        mu <- Xbar\n",
    "        SD2 <- sum((X - mu)^2)/n\n",
    "        sigma_sq <- SD2\n",
    "        sprintf(\"mu = %s & sigma sq = %s\", mu, sigma_sq)\n",
    "    }\n",
    "    \n",
    "    \n",
    "\t#Child Function for Exponential Method Of Moment estimation\n",
    "    Exponential <- function(X)\n",
    "    {\n",
    "        n <- length(X)\n",
    "        Xbar <- sum(X)/n\n",
    "        beta <- Xbar\n",
    "        sprintf(\"beta = %s\", beta)\n",
    "    }\n",
    "\n",
    "    \n",
    "    #Child Function for Gamma Method Of Moment estimation   \n",
    "    Gamma <- function(X)\n",
    "    {\n",
    "        n <- length(X)\n",
    "        Xbar <- sum(X)/n\n",
    "        SD2 <- sum((X - Xbar)^2)/n\n",
    "        alpha <- (Xbar^2)/SD2\n",
    "        beta <- SD2/Xbar\n",
    "        sprintf(\"alpha = %s & beta = %s\", alpha, 1/beta)\n",
    "    }\n",
    "\n",
    "    \n",
    "    #Child Function for Beta Method Of Moment estimation   \n",
    "    Beta <- function(X)\n",
    "    {\n",
    "        n <- length(X)\n",
    "        Xbar <- sum(X)/n\n",
    "        Sd2 <- sum((X - Xbar)^2)/n\n",
    "        alpha <- Xbar*(((Xbar*(1-Xbar))/Sd2) - 1)\n",
    "        beta <- (1 - Xbar) * (((Xbar*(1-Xbar))/Sd2) - 1)\n",
    "        sprintf(\"alpha = %s & beta sq = %s\", alpha, beta)\n",
    "    }\n",
    "\n",
    "    \n",
    "    #Child Function for T Method Of Moment estimation   \n",
    "    T <- function(X)\n",
    "    {\n",
    "        n <- length(X)\n",
    "        Xbar <- sum(X)/n\n",
    "        delta <- Xbar\n",
    "        sprintf(\"delta = %s\", delta)  \n",
    "    }\n",
    "\n",
    "    \n",
    "    #Child Function for chi2 Method Of Moment estimation   \n",
    "    Chi2 <- function(X)\n",
    "    {\n",
    "        n <- length(X)\n",
    "        Xbar <- sum(X)/n\n",
    "        p <- Xbar\n",
    "        sprintf(\"p = %s\", p)  \n",
    "    }\n",
    "    \n",
    "    \n",
    "    multinomialnormal <- function(X)\n",
    "    {\n",
    "      \n",
    "      a=nrow(X)\n",
    "      p<-c(0,0,0,0,0)\n",
    "      for(i in 1:a)\n",
    "        p[i]<-1-((var(X[i,]))/mean(X[i,]))\n",
    "      n=sum(rowMeans(X))/sum(p[1:a])\n",
    "      #n=mean(c(rowMeans(x)/p[1:a]))\n",
    "      sprintf(\"For Multinomial Distribution the parameter 'n' is %s and the parameter 'p' is %s\",n,p)\n",
    "      \n",
    "    }\n",
    "    \n",
    "    multivariatenormal <- function(X)\n",
    "    {\n",
    "      \n",
    "      mu<- colMeans(X)\n",
    "      summ<- var(X)\n",
    "      sprintf(\"For Multivariate Normal Distribution the parameters 'mu' is %s and Summation is %s\",mu,summ)\n",
    "    }\n",
    "    \n",
    "    switch(dist,'Bernoulli' = Bernoulli(X), 'Binomial' = Binomial(X), 'Geometric' = Geometric(X), 'Poisson' = Poisson(X), 'Uniform' = Uniform(X), 'Normal' = Normal(X), 'Exponential' = Exponential(X), 'Gamma' = Gamma(X), 'Beta' = Beta(X), 'T' = T(X), 'Chi2' = Chi2(X),'multinominalNormal' = multinomialnormal(X), 'multivariateNormal' = multivariatenormal(X))\n",
    "}"
   ]
  },
  {
   "cell_type": "markdown",
   "metadata": {},
   "source": [
    "# Calling Method of Moment Estimator for probability distributions"
   ]
  },
  {
   "cell_type": "code",
   "execution_count": 5,
   "metadata": {},
   "outputs": [
    {
     "data": {
      "text/html": [
       "'p = 0.293'"
      ],
      "text/latex": [
       "'p = 0.293'"
      ],
      "text/markdown": [
       "'p = 0.293'"
      ],
      "text/plain": [
       "[1] \"p = 0.293\""
      ]
     },
     "metadata": {},
     "output_type": "display_data"
    }
   ],
   "source": [
    "#Bernoulli\n",
    "n <- 1000\n",
    "prob <- 0.3\n",
    "bernlist <- rbern(n, prob)\n",
    "Method_of_Moment_Generator('Bernoulli',bernlist)"
   ]
  },
  {
   "cell_type": "code",
   "execution_count": 6,
   "metadata": {},
   "outputs": [
    {
     "data": {
      "text/html": [
       "'N = 9.8343299702327 &amp; P = 0.310646481178393'"
      ],
      "text/latex": [
       "'N = 9.8343299702327 \\& P = 0.310646481178393'"
      ],
      "text/markdown": [
       "'N = 9.8343299702327 &amp; P = 0.310646481178393'"
      ],
      "text/plain": [
       "[1] \"N = 9.8343299702327 & P = 0.310646481178393\""
      ]
     },
     "metadata": {},
     "output_type": "display_data"
    }
   ],
   "source": [
    "#Binomial\n",
    "n <- 1000\n",
    "size <- 10\n",
    "prob <- 0.3\n",
    "binomlist <- rbinom(n, size, prob)\n",
    "Method_of_Moment_Generator('Binomial',binomlist)"
   ]
  },
  {
   "cell_type": "code",
   "execution_count": 7,
   "metadata": {},
   "outputs": [
    {
     "data": {
      "text/html": [
       "'P = 0.435540069686411'"
      ],
      "text/latex": [
       "'P = 0.435540069686411'"
      ],
      "text/markdown": [
       "'P = 0.435540069686411'"
      ],
      "text/plain": [
       "[1] \"P = 0.435540069686411\""
      ]
     },
     "metadata": {},
     "output_type": "display_data"
    }
   ],
   "source": [
    "#Geometric\n",
    "n <- 1000\n",
    "size <- 10\n",
    "prob <- 0.3\n",
    "geomlist <- rgeom(n, prob)\n",
    "Method_of_Moment_Generator('Geometric',geomlist)"
   ]
  },
  {
   "cell_type": "code",
   "execution_count": 8,
   "metadata": {},
   "outputs": [
    {
     "data": {
      "text/html": [
       "'lambda = 0.305'"
      ],
      "text/latex": [
       "'lambda = 0.305'"
      ],
      "text/markdown": [
       "'lambda = 0.305'"
      ],
      "text/plain": [
       "[1] \"lambda = 0.305\""
      ]
     },
     "metadata": {},
     "output_type": "display_data"
    }
   ],
   "source": [
    "#poisson\n",
    "n <- 1000\n",
    "size <- 10\n",
    "prob <- 0.3\n",
    "poilist <- rpois(n, prob)\n",
    "Method_of_Moment_Generator('Poisson',poilist)"
   ]
  },
  {
   "cell_type": "code",
   "execution_count": 9,
   "metadata": {},
   "outputs": [
    {
     "data": {
      "text/html": [
       "'A = 0.977548375020186 &amp; B = 4.96344273037239'"
      ],
      "text/latex": [
       "'A = 0.977548375020186 \\& B = 4.96344273037239'"
      ],
      "text/markdown": [
       "'A = 0.977548375020186 &amp; B = 4.96344273037239'"
      ],
      "text/plain": [
       "[1] \"A = 0.977548375020186 & B = 4.96344273037239\""
      ]
     },
     "metadata": {},
     "output_type": "display_data"
    }
   ],
   "source": [
    "#uniform\n",
    "n <- 1000\n",
    "min <- 1\n",
    "max <- 5\n",
    "unilist <- runif(n, min = min, max = max)\n",
    "Method_of_Moment_Generator('Uniform',unilist)"
   ]
  },
  {
   "cell_type": "code",
   "execution_count": 10,
   "metadata": {},
   "outputs": [
    {
     "data": {
      "text/html": [
       "'mu = -0.0349601434557909 &amp; sigma sq = 8.6768679098428'"
      ],
      "text/latex": [
       "'mu = -0.0349601434557909 \\& sigma sq = 8.6768679098428'"
      ],
      "text/markdown": [
       "'mu = -0.0349601434557909 &amp; sigma sq = 8.6768679098428'"
      ],
      "text/plain": [
       "[1] \"mu = -0.0349601434557909 & sigma sq = 8.6768679098428\""
      ]
     },
     "metadata": {},
     "output_type": "display_data"
    }
   ],
   "source": [
    "#normal\n",
    "n <- 1000\n",
    "mean <- 0\n",
    "sd <- 3\n",
    "normlist <- rnorm(n, mean = mean, sd = sd)\n",
    "Method_of_Moment_Generator('Normal',normlist)"
   ]
  },
  {
   "cell_type": "code",
   "execution_count": 11,
   "metadata": {},
   "outputs": [
    {
     "data": {
      "text/html": [
       "'beta = 0.197318175094277'"
      ],
      "text/latex": [
       "'beta = 0.197318175094277'"
      ],
      "text/markdown": [
       "'beta = 0.197318175094277'"
      ],
      "text/plain": [
       "[1] \"beta = 0.197318175094277\""
      ]
     },
     "metadata": {},
     "output_type": "display_data"
    }
   ],
   "source": [
    "#exponential\n",
    "n <- 1000\n",
    "rate <- 5\n",
    "explist <- rexp(n, rate = rate)\n",
    "Method_of_Moment_Generator('Exponential',explist)"
   ]
  },
  {
   "cell_type": "code",
   "execution_count": 12,
   "metadata": {},
   "outputs": [
    {
     "data": {
      "text/html": [
       "'alpha = 0.977004556324639 &amp; beta sq = 2.07107880170482'"
      ],
      "text/latex": [
       "'alpha = 0.977004556324639 \\& beta sq = 2.07107880170482'"
      ],
      "text/markdown": [
       "'alpha = 0.977004556324639 &amp; beta sq = 2.07107880170482'"
      ],
      "text/plain": [
       "[1] \"alpha = 0.977004556324639 & beta sq = 2.07107880170482\""
      ]
     },
     "metadata": {},
     "output_type": "display_data"
    }
   ],
   "source": [
    "#beta\n",
    "n <- 1000\n",
    "shape1 <- 1\n",
    "shape2 <- 2\n",
    "betalist <- rbeta(n,shape1, shape2)\n",
    "Method_of_Moment_Generator('Beta',betalist)"
   ]
  },
  {
   "cell_type": "code",
   "execution_count": 13,
   "metadata": {},
   "outputs": [
    {
     "data": {
      "text/html": [
       "'alpha = 0.931780236934039 &amp; beta = 4.48202989647715'"
      ],
      "text/latex": [
       "'alpha = 0.931780236934039 \\& beta = 4.48202989647715'"
      ],
      "text/markdown": [
       "'alpha = 0.931780236934039 &amp; beta = 4.48202989647715'"
      ],
      "text/plain": [
       "[1] \"alpha = 0.931780236934039 & beta = 4.48202989647715\""
      ]
     },
     "metadata": {},
     "output_type": "display_data"
    }
   ],
   "source": [
    "#gamma\n",
    "n <- 1000\n",
    "alpha <- 1\n",
    "beta <- 5\n",
    "gammalist <- rgamma(n,alpha, beta)\n",
    "Method_of_Moment_Generator('Gamma', gammalist)"
   ]
  },
  {
   "cell_type": "code",
   "execution_count": 14,
   "metadata": {},
   "outputs": [
    {
     "data": {
      "text/html": [
       "'delta = 0.0337822505642689'"
      ],
      "text/latex": [
       "'delta = 0.0337822505642689'"
      ],
      "text/markdown": [
       "'delta = 0.0337822505642689'"
      ],
      "text/plain": [
       "[1] \"delta = 0.0337822505642689\""
      ]
     },
     "metadata": {},
     "output_type": "display_data"
    }
   ],
   "source": [
    "#T Distribution\n",
    "n <- 1000\n",
    "df <- 9\n",
    "tlist <- rt(n, df)\n",
    "Method_of_Moment_Generator('T', tlist)"
   ]
  },
  {
   "cell_type": "code",
   "execution_count": 4,
   "metadata": {},
   "outputs": [
    {
     "data": {
      "text/html": [
       "'p = 8.93094923179235'"
      ],
      "text/latex": [
       "'p = 8.93094923179235'"
      ],
      "text/markdown": [
       "'p = 8.93094923179235'"
      ],
      "text/plain": [
       "[1] \"p = 8.93094923179235\""
      ]
     },
     "metadata": {},
     "output_type": "display_data"
    }
   ],
   "source": [
    "#ChiSquare\n",
    "n <- 1000\n",
    "df <- 9\n",
    "chilist <- rchisq(n, df, ncp = 0)\n",
    "Method_of_Moment_Generator('Chi2',chilist)"
   ]
  },
  {
   "cell_type": "code",
   "execution_count": 15,
   "metadata": {},
   "outputs": [
    {
     "data": {
      "text/html": [
       "<ol class=list-inline>\n",
       "\t<li>'For Multivariate Normal Distribution the parameters \\'mu\\' is 0.058261958734577 and Summation is 9.58039073208182'</li>\n",
       "\t<li>'For Multivariate Normal Distribution the parameters \\'mu\\' is 0.0537489267292221 and Summation is 2.85490523179302'</li>\n",
       "\t<li>'For Multivariate Normal Distribution the parameters \\'mu\\' is 0.058261958734577 and Summation is 2.85490523179302'</li>\n",
       "\t<li>'For Multivariate Normal Distribution the parameters \\'mu\\' is 0.0537489267292221 and Summation is 1.88464504369496'</li>\n",
       "</ol>\n"
      ],
      "text/latex": [
       "\\begin{enumerate*}\n",
       "\\item 'For Multivariate Normal Distribution the parameters \\textbackslash{}'mu\\textbackslash{}' is 0.058261958734577 and Summation is 9.58039073208182'\n",
       "\\item 'For Multivariate Normal Distribution the parameters \\textbackslash{}'mu\\textbackslash{}' is 0.0537489267292221 and Summation is 2.85490523179302'\n",
       "\\item 'For Multivariate Normal Distribution the parameters \\textbackslash{}'mu\\textbackslash{}' is 0.058261958734577 and Summation is 2.85490523179302'\n",
       "\\item 'For Multivariate Normal Distribution the parameters \\textbackslash{}'mu\\textbackslash{}' is 0.0537489267292221 and Summation is 1.88464504369496'\n",
       "\\end{enumerate*}\n"
      ],
      "text/markdown": [
       "1. 'For Multivariate Normal Distribution the parameters \\'mu\\' is 0.058261958734577 and Summation is 9.58039073208182'\n",
       "2. 'For Multivariate Normal Distribution the parameters \\'mu\\' is 0.0537489267292221 and Summation is 2.85490523179302'\n",
       "3. 'For Multivariate Normal Distribution the parameters \\'mu\\' is 0.058261958734577 and Summation is 2.85490523179302'\n",
       "4. 'For Multivariate Normal Distribution the parameters \\'mu\\' is 0.0537489267292221 and Summation is 1.88464504369496'\n",
       "\n",
       "\n"
      ],
      "text/plain": [
       "[1] \"For Multivariate Normal Distribution the parameters 'mu' is 0.058261958734577 and Summation is 9.58039073208182\" \n",
       "[2] \"For Multivariate Normal Distribution the parameters 'mu' is 0.0537489267292221 and Summation is 2.85490523179302\"\n",
       "[3] \"For Multivariate Normal Distribution the parameters 'mu' is 0.058261958734577 and Summation is 2.85490523179302\" \n",
       "[4] \"For Multivariate Normal Distribution the parameters 'mu' is 0.0537489267292221 and Summation is 1.88464504369496\""
      ]
     },
     "metadata": {},
     "output_type": "display_data"
    }
   ],
   "source": [
    "#multivariatenormal\n",
    "n <- 1000\n",
    "Sigma <- matrix(c(10,3,3,2),2,2)\n",
    "multivariatelist <- mvrnorm(n, rep(0, 2), Sigma)\n",
    "Method_of_Moment_Generator('multivariateNormal', multivariatelist)"
   ]
  },
  {
   "cell_type": "code",
   "execution_count": 16,
   "metadata": {},
   "outputs": [
    {
     "data": {
      "text/html": [
       "<ol class=list-inline>\n",
       "\t<li>'For Multinomial Distribution the parameter \\'n\\' is 5.36811977146384 and the parameter \\'p\\' is 0.167968238143679'</li>\n",
       "\t<li>'For Multinomial Distribution the parameter \\'n\\' is 5.36811977146384 and the parameter \\'p\\' is -0.0213958814781661'</li>\n",
       "\t<li>'For Multinomial Distribution the parameter \\'n\\' is 5.36811977146384 and the parameter \\'p\\' is 0.446825466242943'</li>\n",
       "\t<li>'For Multinomial Distribution the parameter \\'n\\' is 5.36811977146384 and the parameter \\'p\\' is 0.0540227727727896'</li>\n",
       "\t<li>'For Multinomial Distribution the parameter \\'n\\' is 5.36811977146384 and the parameter \\'p\\' is 0.284004225832479'</li>\n",
       "</ol>\n"
      ],
      "text/latex": [
       "\\begin{enumerate*}\n",
       "\\item 'For Multinomial Distribution the parameter \\textbackslash{}'n\\textbackslash{}' is 5.36811977146384 and the parameter \\textbackslash{}'p\\textbackslash{}' is 0.167968238143679'\n",
       "\\item 'For Multinomial Distribution the parameter \\textbackslash{}'n\\textbackslash{}' is 5.36811977146384 and the parameter \\textbackslash{}'p\\textbackslash{}' is -0.0213958814781661'\n",
       "\\item 'For Multinomial Distribution the parameter \\textbackslash{}'n\\textbackslash{}' is 5.36811977146384 and the parameter \\textbackslash{}'p\\textbackslash{}' is 0.446825466242943'\n",
       "\\item 'For Multinomial Distribution the parameter \\textbackslash{}'n\\textbackslash{}' is 5.36811977146384 and the parameter \\textbackslash{}'p\\textbackslash{}' is 0.0540227727727896'\n",
       "\\item 'For Multinomial Distribution the parameter \\textbackslash{}'n\\textbackslash{}' is 5.36811977146384 and the parameter \\textbackslash{}'p\\textbackslash{}' is 0.284004225832479'\n",
       "\\end{enumerate*}\n"
      ],
      "text/markdown": [
       "1. 'For Multinomial Distribution the parameter \\'n\\' is 5.36811977146384 and the parameter \\'p\\' is 0.167968238143679'\n",
       "2. 'For Multinomial Distribution the parameter \\'n\\' is 5.36811977146384 and the parameter \\'p\\' is -0.0213958814781661'\n",
       "3. 'For Multinomial Distribution the parameter \\'n\\' is 5.36811977146384 and the parameter \\'p\\' is 0.446825466242943'\n",
       "4. 'For Multinomial Distribution the parameter \\'n\\' is 5.36811977146384 and the parameter \\'p\\' is 0.0540227727727896'\n",
       "5. 'For Multinomial Distribution the parameter \\'n\\' is 5.36811977146384 and the parameter \\'p\\' is 0.284004225832479'\n",
       "\n",
       "\n"
      ],
      "text/plain": [
       "[1] \"For Multinomial Distribution the parameter 'n' is 5.36811977146384 and the parameter 'p' is 0.167968238143679\"  \n",
       "[2] \"For Multinomial Distribution the parameter 'n' is 5.36811977146384 and the parameter 'p' is -0.0213958814781661\"\n",
       "[3] \"For Multinomial Distribution the parameter 'n' is 5.36811977146384 and the parameter 'p' is 0.446825466242943\"  \n",
       "[4] \"For Multinomial Distribution the parameter 'n' is 5.36811977146384 and the parameter 'p' is 0.0540227727727896\" \n",
       "[5] \"For Multinomial Distribution the parameter 'n' is 5.36811977146384 and the parameter 'p' is 0.284004225832479\"  "
      ]
     },
     "metadata": {},
     "output_type": "display_data"
    }
   ],
   "source": [
    "#multinomimalnormal\n",
    "n <- 1000\n",
    "size <- 5\n",
    "multinominallist <- rmultinom(n,size,c(0.15,0.05,0.4,0.1,0.3))\n",
    "Method_of_Moment_Generator('multinominalNormal', multinominallist)"
   ]
  }
 ],
 "metadata": {
  "kernelspec": {
   "display_name": "R",
   "language": "R",
   "name": "ir"
  },
  "language_info": {
   "codemirror_mode": "r",
   "file_extension": ".r",
   "mimetype": "text/x-r-source",
   "name": "R",
   "pygments_lexer": "r",
   "version": "3.4.4"
  }
 },
 "nbformat": 4,
 "nbformat_minor": 2
}
